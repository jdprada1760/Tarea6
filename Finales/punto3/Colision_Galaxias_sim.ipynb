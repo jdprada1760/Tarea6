{
 "metadata": {
  "name": "",
  "signature": "sha256:21a7d4039885b8afdf2f43e18a26ba0049416168df1b5c4d8e0f27277d4244f9"
 },
 "nbformat": 3,
 "nbformat_minor": 0,
 "worksheets": [
  {
   "cells": [
    {
     "cell_type": "code",
     "collapsed": false,
     "input": [
      "%pylab\n",
      "import matplotlib.animation as animation\n",
      "from mpl_toolkits.mplot3d import Axes3D"
     ],
     "language": "python",
     "metadata": {},
     "outputs": [
      {
       "output_type": "stream",
       "stream": "stdout",
       "text": [
        "Using matplotlib backend: TkAgg\n",
        "Populating the interactive namespace from numpy and matplotlib\n"
       ]
      }
     ],
     "prompt_number": 2
    },
    {
     "cell_type": "code",
     "collapsed": false,
     "input": [
      "data = loadtxt(\"evolve.dat\")\n",
      "data = data.T"
     ],
     "language": "python",
     "metadata": {},
     "outputs": [],
     "prompt_number": 3
    },
    {
     "cell_type": "code",
     "collapsed": false,
     "input": [
      "print len(data), len(data[0])"
     ],
     "language": "python",
     "metadata": {},
     "outputs": [
      {
       "output_type": "stream",
       "stream": "stdout",
       "text": [
        "30006 1001\n"
       ]
      }
     ],
     "prompt_number": 5
    },
    {
     "cell_type": "heading",
     "level": 2,
     "metadata": {},
     "source": [
      "Pruebas"
     ]
    },
    {
     "cell_type": "code",
     "collapsed": false,
     "input": [
      "filter= 3\n",
      "for i in range(100):\n",
      "    plot(data[filter*i],data[filter*i + 1])\n",
      "#print data[3], data[4]"
     ],
     "language": "python",
     "metadata": {},
     "outputs": [],
     "prompt_number": 58
    },
    {
     "cell_type": "code",
     "collapsed": false,
     "input": [
      "index = where(data > 20)\n",
      "print index"
     ],
     "language": "python",
     "metadata": {},
     "outputs": [
      {
       "output_type": "stream",
       "stream": "stdout",
       "text": [
        "(array([  240,   240,   240, ..., 29047, 29047, 29047]), array([ 169,  170,  171, ...,  998,  999, 1000]))\n"
       ]
      }
     ],
     "prompt_number": 46
    },
    {
     "cell_type": "code",
     "collapsed": false,
     "input": [
      "num = 240\n",
      "plot(data[num],data[num + 1])\n",
      "    "
     ],
     "language": "python",
     "metadata": {},
     "outputs": [
      {
       "metadata": {},
       "output_type": "pyout",
       "prompt_number": 4,
       "text": [
        "[<matplotlib.lines.Line2D at 0x4332150>]"
       ]
      }
     ],
     "prompt_number": 4
    },
    {
     "cell_type": "heading",
     "level": 2,
     "metadata": {},
     "source": [
      "Animacion"
     ]
    },
    {
     "cell_type": "code",
     "collapsed": false,
     "input": [
      "# Preparacion de los datos \u00f1.\u00f1\n",
      "data_t = []\n",
      "for i in range(0,(len(data)-1)/3):\n",
      "    data_t.append(np.array(data[[3*i,3*i+1,3*i+2]]).T)\n",
      "    \n",
      "data_t = np.array(data_t)"
     ],
     "language": "python",
     "metadata": {},
     "outputs": [],
     "prompt_number": 13
    },
    {
     "cell_type": "code",
     "collapsed": false,
     "input": [
      "#print data_t"
     ],
     "language": "python",
     "metadata": {},
     "outputs": [],
     "prompt_number": 21
    },
    {
     "cell_type": "code",
     "collapsed": false,
     "input": [
      "# Selecciona los datos que tienen orbitas peque\u00f1as\n",
      "x_t = []\n",
      "N = 30\n",
      "orbit_size = 20\n",
      "num_orbits = 0\n",
      "for i in range(len(data_t)):\n",
      "    norm = sqrt(data_t[i].T[0]**2 + data_t[i].T[1]**2 + data_t[i].T[2]**2)\n",
      "    if np.max(norm,axis = 0) < orbit_size:\n",
      "        x_t.append(data_t[i])\n",
      "    num_orbits += 1\n",
      "    if( num_orbits > 30 ):\n",
      "        break\n",
      "        \n",
      "x_t = np.array(x_t)\n",
      "#print x_t"
     ],
     "language": "python",
     "metadata": {},
     "outputs": [],
     "prompt_number": 25
    },
    {
     "cell_type": "code",
     "collapsed": false,
     "input": [
      "print len(x_t)"
     ],
     "language": "python",
     "metadata": {},
     "outputs": [
      {
       "output_type": "stream",
       "stream": "stdout",
       "text": [
        "31\n"
       ]
      }
     ],
     "prompt_number": 26
    },
    {
     "cell_type": "code",
     "collapsed": false,
     "input": [
      "#Simulacion con Scatter y trayectoria 3D (FUNCIONA)\n",
      "from mpl_toolkits.mplot3d import Axes3D\n",
      " \n",
      "N_trajectories = 30\n",
      "lim = 10\n",
      "    \n",
      "# Set up figure & 3D axis for animation\n",
      "fig = plt.figure()\n",
      "ax = fig.add_axes([0, 0, 1, 1], projection='3d')\n",
      "#ax.axis('off')\n",
      "\n",
      "# choose a different color for each trajectory\n",
      "colors = plt.cm.jet(np.linspace(0, 1, N_trajectories))\n",
      "\n",
      "# set up lines and points\n",
      "lines = []\n",
      "pts = []\n",
      "for c in colors:\n",
      "    lines += ax.plot([], [], [], '-', c=c)\n",
      "    pts += ax.plot([], [], [], 'o', c=c)\n",
      "\n",
      "# prepare the axes limits\n",
      "ax.set_xlim((-lim, lim))\n",
      "ax.set_ylim((-lim, lim))\n",
      "ax.set_zlim((0, lim))\n",
      "\n",
      "# set point-of-view: specified by (altitude degrees, azimuth degrees)\n",
      "ax.view_init(30, 0)\n",
      "\n",
      "# initialization function: plot the background of each frame\n",
      "def init():\n",
      "    for line, pt in zip(lines, pts):\n",
      "        line.set_data([], [])\n",
      "        line.set_3d_properties([])\n",
      "\n",
      "        pt.set_data([], [])\n",
      "        pt.set_3d_properties([])\n",
      "    return lines + pts\n",
      "\n",
      "# animation function.  This will be called sequentially with the frame number\n",
      "def animate(i):\n",
      "    # we'll step two time-steps per frame.  This leads to nice results.\n",
      "    i = (4 * i) % x_t.shape[1]\n",
      "\n",
      "    for line, pt, xi in zip(lines, pts, x_t):\n",
      "        x, y, z = xi[:i].T\n",
      "        line.set_data(x, y)\n",
      "        line.set_3d_properties(z)\n",
      "\n",
      "        pt.set_data(x[-1:], y[-1:])\n",
      "        pt.set_3d_properties(z[-1:])\n",
      "\n",
      "    # rotate the point of view\n",
      "    ax.view_init(20 + 0.03 * i, 0.03 * i)\n",
      "    fig.canvas.draw()\n",
      "    return lines + pts\n",
      "\n",
      "# instantiate the animator.\n",
      "anim = animation.FuncAnimation(fig, animate, init_func=init,\n",
      "                               frames=270, interval=15, blit=True)\n",
      "# Salva la animacion a mp4\n",
      "\n",
      "anim.save('NeutronStarCollision.mp4', fps = 30)"
     ],
     "language": "python",
     "metadata": {},
     "outputs": [
      {
       "output_type": "stream",
       "stream": "stderr",
       "text": [
        "  File \"/usr/lib/python2.7/lib-tk/Tkinter.py\", line 498, in callit\n",
        "    func(*args)\n",
        "  File \"/usr/lib/pymodules/python2.7/matplotlib/backends/backend_tkagg.py\", line 116, in _on_timer\n",
        "    TimerBase._on_timer(self)\n",
        "  File \"/usr/lib/pymodules/python2.7/matplotlib/backend_bases.py\", line 1092, in _on_timer\n",
        "    ret = func(*args, **kwargs)\n",
        "  File \"/usr/lib/pymodules/python2.7/matplotlib/animation.py\", line 315, in _step\n",
        "    still_going = Animation._step(self, *args)\n",
        "  File \"/usr/lib/pymodules/python2.7/matplotlib/animation.py\", line 177, in _step\n",
        "    self._draw_next_frame(framedata, self._blit)\n",
        "  File \"/usr/lib/pymodules/python2.7/matplotlib/animation.py\", line 195, in _draw_next_frame\n",
        "    self._pre_draw(framedata, blit)\n",
        "  File \"/usr/lib/pymodules/python2.7/matplotlib/animation.py\", line 208, in _pre_draw\n",
        "    self._blit_clear(self._drawn_artists, self._blit_cache)\n",
        "  File \"/usr/lib/pymodules/python2.7/matplotlib/animation.py\", line 248, in _blit_clear\n",
        "    a.figure.canvas.restore_region(bg_cache[a])\n",
        "KeyError: <mpl_toolkits.mplot3d.axes3d.Axes3D object at 0x49e5190>\n"
       ]
      }
     ],
     "prompt_number": 35
    },
    {
     "cell_type": "code",
     "collapsed": false,
     "input": [],
     "language": "python",
     "metadata": {},
     "outputs": []
    }
   ],
   "metadata": {}
  }
 ]
}