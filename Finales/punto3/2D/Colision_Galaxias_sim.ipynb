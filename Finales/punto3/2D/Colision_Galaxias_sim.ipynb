{
 "metadata": {
  "name": "",
  "signature": "sha256:7531bfa26aea3eb120de36dc551c1f4bd7a49a58765ae68fa387978fc580c31d"
 },
 "nbformat": 3,
 "nbformat_minor": 0,
 "worksheets": [
  {
   "cells": [
    {
     "cell_type": "code",
     "collapsed": false,
     "input": [
      "%pylab\n",
      "import matplotlib.animation as animation\n",
      "from mpl_toolkits.mplot3d import Axes3D"
     ],
     "language": "python",
     "metadata": {},
     "outputs": [
      {
       "output_type": "stream",
       "stream": "stdout",
       "text": [
        "Using matplotlib backend: TkAgg\n",
        "Populating the interactive namespace from numpy and matplotlib\n"
       ]
      }
     ],
     "prompt_number": 42
    },
    {
     "cell_type": "code",
     "collapsed": false,
     "input": [
      "data = loadtxt(\"evolve.dat\")\n",
      "data = data.T"
     ],
     "language": "python",
     "metadata": {},
     "outputs": [],
     "prompt_number": 59
    },
    {
     "cell_type": "code",
     "collapsed": false,
     "input": [
      "print len(data), len(data[0])\n",
      "data1 = data[0:]\n",
      "data2 = data[len(data)/2+1:len(data)/2+101]"
     ],
     "language": "python",
     "metadata": {},
     "outputs": [
      {
       "output_type": "stream",
       "stream": "stdout",
       "text": [
        "204 2001\n"
       ]
      }
     ],
     "prompt_number": 11
    },
    {
     "cell_type": "heading",
     "level": 2,
     "metadata": {},
     "source": [
      "Pruebas"
     ]
    },
    {
     "cell_type": "code",
     "collapsed": false,
     "input": [
      "filter= 2\n",
      "print len(data)\n",
      "for i in range(203):\n",
      "    plot(data[filter*i],data[filter*i + 1])\n",
      "#print data[3], data[4]"
     ],
     "language": "python",
     "metadata": {},
     "outputs": [
      {
       "output_type": "stream",
       "stream": "stdout",
       "text": [
        "406\n"
       ]
      }
     ],
     "prompt_number": 60
    },
    {
     "cell_type": "code",
     "collapsed": false,
     "input": [
      "index = where(data > 20)\n",
      "print index"
     ],
     "language": "python",
     "metadata": {},
     "outputs": [
      {
       "output_type": "stream",
       "stream": "stdout",
       "text": [
        "(array([  240,   240,   240, ..., 29047, 29047, 29047]), array([ 169,  170,  171, ...,  998,  999, 1000]))\n"
       ]
      }
     ],
     "prompt_number": 46
    },
    {
     "cell_type": "code",
     "collapsed": false,
     "input": [
      "num = 240\n",
      "plot(data[num],data[num + 1])\n",
      "    "
     ],
     "language": "python",
     "metadata": {},
     "outputs": [
      {
       "metadata": {},
       "output_type": "pyout",
       "prompt_number": 4,
       "text": [
        "[<matplotlib.lines.Line2D at 0x4332150>]"
       ]
      }
     ],
     "prompt_number": 4
    },
    {
     "cell_type": "heading",
     "level": 2,
     "metadata": {},
     "source": [
      "Animacion"
     ]
    },
    {
     "cell_type": "code",
     "collapsed": false,
     "input": [
      "# Preparacion de los datos \u00f1.\u00f1\n",
      "data_t = []\n",
      "for i in range(0,(len(data)-1)/2):\n",
      "    data_t.append(np.array(data[[2*i,2*i+1]]).T)\n",
      "    \n",
      "data_t = np.array(data_t)"
     ],
     "language": "python",
     "metadata": {},
     "outputs": [],
     "prompt_number": 61
    },
    {
     "cell_type": "code",
     "collapsed": false,
     "input": [
      "#print data_t\n",
      "x_t = np.concatenate( (data_t[0:51], data_t[-51:-1]))\n",
      "#print x_t, len(x_t)\n"
     ],
     "language": "python",
     "metadata": {},
     "outputs": [],
     "prompt_number": 28
    },
    {
     "cell_type": "code",
     "collapsed": false,
     "input": [
      "# Selecciona los datos que tienen orbitas peque\u00f1as\n",
      "x_t = []\n",
      "N = 30\n",
      "orbit_size = 10\n",
      "num_orbits = 0\n",
      "for i in range(len(data_t)):\n",
      "    norm = sqrt(data_t[i].T[0]**2 + data_t[i].T[1]**2)\n",
      "    if np.max(norm,axis = 0) < orbit_size:\n",
      "        x_t.append(data_t[i])\n",
      "    num_orbits += 1\n",
      "    if( num_orbits > 30 ):\n",
      "        break\n",
      "        \n",
      "x_t = np.array(x_t)\n",
      "#print x_t"
     ],
     "language": "python",
     "metadata": {},
     "outputs": [],
     "prompt_number": 26
    },
    {
     "cell_type": "code",
     "collapsed": false,
     "input": [
      "x_t = np.array(data_t)"
     ],
     "language": "python",
     "metadata": {},
     "outputs": [],
     "prompt_number": 62
    },
    {
     "cell_type": "code",
     "collapsed": false,
     "input": [
      "#Simulacion con Scatter y trayectoria 3D (FUNCIONA)\n",
      "from mpl_toolkits.mplot3d import Axes3D\n",
      " \n",
      "N_trajectories = 200\n",
      "lim = 500\n",
      "    \n",
      "# Set up figure & 3D axis for animation\n",
      "fig = plt.figure()\n",
      "ax = fig.add_subplot(111)\n",
      "#ax.axis('off')\n",
      "\n",
      "# choose a different color for each trajectory\n",
      "colors = plt.cm.jet(np.linspace(0, 1, N_trajectories))\n",
      "\n",
      "# set up lines and points\n",
      "lines = []\n",
      "pts = []\n",
      "for c in colors:\n",
      "    lines += ax.plot([], [], '-', c=c)\n",
      "    pts += ax.plot([], [], 'o', c=c)\n",
      "\n",
      "# prepare the axes limits\n",
      "ax.set_xlim((-lim, lim))\n",
      "ax.set_ylim((-lim, lim))\n",
      "\n",
      "# initialization function: plot the background of each frame\n",
      "def init():\n",
      "    for line, pt in zip(lines, pts):\n",
      "        line.set_data([], [])\n",
      "\n",
      "        pt.set_data([], [])\n",
      "    return lines + pts\n",
      "\n",
      "# animation function.  This will be called sequentially with the frame number\n",
      "def animate(i):\n",
      "    # we'll step two time-steps per frame.  This leads to nice results.\n",
      "    i = ( 10*i) % x_t.shape[1]\n",
      "\n",
      "    for line, pt, xi in zip(lines, pts, x_t):\n",
      "        x, y = xi[:i].T\n",
      "        line.set_data(x, y)\n",
      "\n",
      "        pt.set_data(x[-1:], y[-1:])\n",
      "\n",
      "    return lines + pts\n",
      "\n",
      "# instantiate the animator.\n",
      "anim = animation.FuncAnimation(fig, animate, init_func=init,\n",
      "                               frames=1500, interval=15, blit=False)\n",
      "# Salva la animacion a mp4\n",
      "\n",
      "#anim.save('NeutronStarCollision_2D.mkv', fps = 10)"
     ],
     "language": "python",
     "metadata": {},
     "outputs": [],
     "prompt_number": 63
    },
    {
     "cell_type": "code",
     "collapsed": false,
     "input": [],
     "language": "python",
     "metadata": {},
     "outputs": []
    }
   ],
   "metadata": {}
  }
 ]
}