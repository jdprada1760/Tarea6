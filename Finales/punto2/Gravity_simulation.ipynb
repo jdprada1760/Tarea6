{
 "metadata": {
  "name": "",
  "signature": "sha256:1434b34f63d7925b49528a141f59f040fd13e65940431d80e782b113b92ecdb8"
 },
 "nbformat": 3,
 "nbformat_minor": 0,
 "worksheets": [
  {
   "cells": [
    {
     "cell_type": "code",
     "collapsed": false,
     "input": [
      "%pylab\n",
      "import matplotlib.animation as animation\n",
      "from mpl_toolkits.mplot3d import Axes3D"
     ],
     "language": "python",
     "metadata": {},
     "outputs": [
      {
       "output_type": "stream",
       "stream": "stdout",
       "text": [
        "Using matplotlib backend: TkAgg\n",
        "Populating the interactive namespace from numpy and matplotlib\n"
       ]
      }
     ],
     "prompt_number": 3
    },
    {
     "cell_type": "code",
     "collapsed": false,
     "input": [
      "data = loadtxt('3body.data')\n",
      "print len(data)"
     ],
     "language": "python",
     "metadata": {},
     "outputs": [
      {
       "output_type": "stream",
       "stream": "stdout",
       "text": [
        "10001\n"
       ]
      }
     ],
     "prompt_number": 4
    },
    {
     "cell_type": "code",
     "collapsed": false,
     "input": [
      "data = data.T\n",
      "datax = data[[1,4,7]]\n",
      "datay = data[[2,5,8]]\n",
      "dataz = data[[3,6,9]]\n",
      "data1 = data[[1,2,3]]\n",
      "data2 = data[[4,5,6]]\n",
      "data3 = data[[7,8,9]]\n",
      "i = 0\n",
      "n_dim = 3\n",
      "n_masses = 3\n",
      "print len(data)\n",
      "x_t = np.array([data1.T,data2.T,data3.T])"
     ],
     "language": "python",
     "metadata": {},
     "outputs": [
      {
       "output_type": "stream",
       "stream": "stdout",
       "text": [
        "11\n"
       ]
      }
     ],
     "prompt_number": 5
    },
    {
     "cell_type": "code",
     "collapsed": false,
     "input": [
      "k = 10000\n",
      "scatter(datax[0][0:k],datay[0][0:k], s = 200, c = 'r', alpha = 0.01)\n",
      "scatter(datax[1][0:k],datay[1][0:k], s = 200, c = 'g', alpha = 0.01)\n",
      "scatter(datax[2][0:k],datay[2][0:k], s = 200, c = 'y', alpha = 0.01)"
     ],
     "language": "python",
     "metadata": {},
     "outputs": [
      {
       "metadata": {},
       "output_type": "pyout",
       "prompt_number": 6,
       "text": [
        "<matplotlib.collections.PathCollection at 0x4a63110>"
       ]
      }
     ],
     "prompt_number": 6
    },
    {
     "cell_type": "code",
     "collapsed": false,
     "input": [
      "print x_t"
     ],
     "language": "python",
     "metadata": {},
     "outputs": [
      {
       "output_type": "stream",
       "stream": "stdout",
       "text": [
        "[[[  1.00000000e+02   0.00000000e+00   0.00000000e+00]\n",
        "  [  1.00000000e+02  -0.00000000e+00   9.14300000e-03]\n",
        "  [  9.99999990e+01  -0.00000000e+00   1.82860000e-02]\n",
        "  ..., \n",
        "  [  6.88849840e+01  -3.59285300e+00   9.14092410e+01]\n",
        "  [  6.88781120e+01  -3.59364600e+00   9.14183840e+01]\n",
        "  [  6.88712380e+01  -3.59444000e+00   9.14275270e+01]]\n",
        "\n",
        " [[ -5.00000000e+01   8.66025400e+01   0.00000000e+00]\n",
        "  [ -5.00000000e+01   8.66025400e+01   9.14300000e-03]\n",
        "  [ -5.00000000e+01   8.66025390e+01   1.82860000e-02]\n",
        "  ..., \n",
        "  [ -4.37769970e+01   6.14525720e+01   9.14092410e+01]\n",
        "  [ -4.37756220e+01   6.14470170e+01   9.14183840e+01]\n",
        "  [ -4.37742480e+01   6.14414620e+01   9.14275270e+01]]\n",
        "\n",
        " [[ -5.00000000e+01  -8.66025400e+01   0.00000000e+00]\n",
        "  [ -5.00000000e+01  -8.66025400e+01   9.14300000e-03]\n",
        "  [ -5.00000000e+01  -8.66025400e+01   1.82860000e-02]\n",
        "  ..., \n",
        "  [ -4.37769970e+01  -6.86382770e+01   9.14092410e+01]\n",
        "  [ -4.37756220e+01  -6.86343100e+01   9.14183840e+01]\n",
        "  [ -4.37742480e+01  -6.86303410e+01   9.14275270e+01]]]\n"
       ]
      }
     ],
     "prompt_number": 246
    },
    {
     "cell_type": "code",
     "collapsed": false,
     "input": [
      "#Simulacion con scatter 2D (FUNCIONA)\n",
      "def animate(i,fig,scat):\n",
      "    i = 10*i % 10001\n",
      "    scat.set_offsets(([datax[0][i],datay[0][i]],[datax[1][i],datay[1][i]],[datax[2][i],datay[2][i]]))\n",
      "    return scat,\n",
      "\n",
      "fig = plt.figure()\n",
      "lim = 200\n",
      "ax = fig.add_subplot(111)\n",
      "ax.grid(True, linestyle = '-', color = '0.75')\n",
      "ax.set_xlim([-lim,lim])\n",
      "ax.set_ylim([-lim,lim])\n",
      "x = np.array([datax[0][0],datax[1][0],datax[2][0]])\n",
      "y = np.array([ord('r'),ord('g'),ord('y')])\n",
      "scat = plt.scatter(x,y, s = 100, c = ['r','g','y'])\n",
      "plt.cla()\n",
      "scat.set_alpha(0.7)\n",
      "#scat = plt.scatter(data2x[0],data2y[0], s = 50, c = 'r', alpha = 0.4)\n",
      "#scat = plt.scatter(data3x[0],data3y[0], s = 50, c = 'r', alpha = 0.4)\n",
      "anim = animation.FuncAnimation(fig, animate, fargs = (fig, scat),\n",
      "                               frames=100000, interval = 1 , blit=True)\n",
      "plt.show()"
     ],
     "language": "python",
     "metadata": {},
     "outputs": [],
     "prompt_number": 4
    },
    {
     "cell_type": "code",
     "collapsed": false,
     "input": [
      "#Simulacion con Scatter y trayectoria 3D (FUNCIONA)\n",
      "from mpl_toolkits.mplot3d import Axes3D\n",
      " \n",
      "N_trajectories = 3\n",
      "lim = 110\n",
      "    \n",
      "# Set up figure & 3D axis for animation\n",
      "fig = plt.figure()\n",
      "ax = fig.add_axes([0, 0, 1, 1], projection='3d')\n",
      "#ax.axis('off')\n",
      "\n",
      "# choose a different color for each trajectory\n",
      "colors = ['r','g','b']\n",
      "\n",
      "# set up lines and points\n",
      "lines = []\n",
      "pts = []\n",
      "for c in colors:\n",
      "    lines += ax.plot([], [], [], '-', c=c)\n",
      "    pts += ax.plot([], [], [], 'o', c=c)\n",
      "\n",
      "# prepare the axes limits\n",
      "ax.set_xlim((-lim, lim))\n",
      "ax.set_ylim((-lim, lim))\n",
      "ax.set_zlim((0, lim))\n",
      "\n",
      "# set point-of-view: specified by (altitude degrees, azimuth degrees)\n",
      "ax.view_init(30, 0)\n",
      "\n",
      "# initialization function: plot the background of each frame\n",
      "def init():\n",
      "    for line, pt in zip(lines, pts):\n",
      "        line.set_data([], [])\n",
      "        line.set_3d_properties([])\n",
      "\n",
      "        pt.set_data([], [])\n",
      "        pt.set_3d_properties([])\n",
      "    return lines + pts\n",
      "\n",
      "# animation function.  This will be called sequentially with the frame number\n",
      "def animate(i):\n",
      "    # we'll step two time-steps per frame.  This leads to nice results.\n",
      "    i = (40 * i) % x_t.shape[1]\n",
      "\n",
      "    for line, pt, xi in zip(lines, pts, x_t):\n",
      "        x, y, z = xi[:i].T\n",
      "        line.set_data(x, y)\n",
      "        line.set_3d_properties(z)\n",
      "\n",
      "        pt.set_data(x[-1:], y[-1:])\n",
      "        pt.set_3d_properties(z[-1:])\n",
      "\n",
      "    #vrotate the point of view\n",
      "    ax.view_init(40, 0.03 * i)\n",
      "    fig.canvas.draw()\n",
      "    return lines + pts\n",
      "\n",
      "# instantiate the animator.\n",
      "anim = animation.FuncAnimation(fig, animate, init_func=init,\n",
      "                               frames=270, interval=15, blit=True)\n",
      "# Salva la animacion a mp4\n",
      "\n",
      "anim.save('3bodies.mp4', fps = 30)"
     ],
     "language": "python",
     "metadata": {},
     "outputs": [
      {
       "output_type": "stream",
       "stream": "stderr",
       "text": [
        "Exception in Tkinter callback\n",
        "Traceback (most recent call last):\n",
        "  File \"/usr/lib/python2.7/lib-tk/Tkinter.py\", line 1413, in __call__\n",
        "    return self.func(*args)\n",
        "  File \"/usr/lib/python2.7/lib-tk/Tkinter.py\", line 498, in callit\n",
        "    func(*args)\n",
        "  File \"/usr/lib/pymodules/python2.7/matplotlib/backends/backend_tkagg.py\", line 116, in _on_timer\n",
        "    TimerBase._on_timer(self)\n",
        "  File \"/usr/lib/pymodules/python2.7/matplotlib/backend_bases.py\", line 1092, in _on_timer\n",
        "    ret = func(*args, **kwargs)\n",
        "  File \"/usr/lib/pymodules/python2.7/matplotlib/animation.py\", line 315, in _step\n",
        "    still_going = Animation._step(self, *args)\n",
        "  File \"/usr/lib/pymodules/python2.7/matplotlib/animation.py\", line 177, in _step\n",
        "    self._draw_next_frame(framedata, self._blit)\n",
        "  File \"/usr/lib/pymodules/python2.7/matplotlib/animation.py\", line 195, in _draw_next_frame\n",
        "    self._pre_draw(framedata, blit)\n",
        "  File \"/usr/lib/pymodules/python2.7/matplotlib/animation.py\", line 208, in _pre_draw\n",
        "    self._blit_clear(self._drawn_artists, self._blit_cache)\n",
        "  File \"/usr/lib/pymodules/python2.7/matplotlib/animation.py\", line 248, in _blit_clear\n",
        "    a.figure.canvas.restore_region(bg_cache[a])\n",
        "KeyError: <mpl_toolkits.mplot3d.axes3d.Axes3D object at 0x46375d0>\n"
       ]
      }
     ],
     "prompt_number": 69
    },
    {
     "cell_type": "code",
     "collapsed": false,
     "input": [
      "# Salva la animacion a mp4\n",
      "import matplotlib.animation as animation\n",
      "\n",
      "\n",
      "anim.save('3bodies.mp4')"
     ],
     "language": "python",
     "metadata": {},
     "outputs": [],
     "prompt_number": 64
    },
    {
     "cell_type": "code",
     "collapsed": false,
     "input": [
      "fig"
     ],
     "language": "python",
     "metadata": {},
     "outputs": []
    }
   ],
   "metadata": {}
  }
 ]
}